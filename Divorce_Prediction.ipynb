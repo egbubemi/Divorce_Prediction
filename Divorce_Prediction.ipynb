{
  "nbformat": 4,
  "nbformat_minor": 0,
  "metadata": {
    "colab": {
      "provenance": [],
      "authorship_tag": "ABX9TyNROI3SRDBYYtKnaV0Pi9XE"
    },
    "kernelspec": {
      "name": "python3",
      "display_name": "Python 3"
    },
    "language_info": {
      "name": "python"
    }
  },
  "cells": [
    {
      "cell_type": "code",
      "execution_count": null,
      "metadata": {
        "colab": {
          "base_uri": "https://localhost:8080/"
        },
        "id": "mltlODL521wx",
        "outputId": "bee56db2-aa28-4c8f-9dc6-1d68f7a07864",
        "collapsed": true
      },
      "outputs": [
        {
          "output_type": "stream",
          "name": "stdout",
          "text": [
            "Looking in indexes: https://pypi.org/simple, https://us-python.pkg.dev/colab-wheels/public/simple/\n",
            "Requirement already satisfied: mlxtend in /usr/local/lib/python3.8/dist-packages (0.14.0)\n",
            "Requirement already satisfied: pandas>=0.17.1 in /usr/local/lib/python3.8/dist-packages (from mlxtend) (1.3.5)\n",
            "Requirement already satisfied: setuptools in /usr/local/lib/python3.8/dist-packages (from mlxtend) (57.4.0)\n",
            "Requirement already satisfied: scikit-learn>=0.18 in /usr/local/lib/python3.8/dist-packages (from mlxtend) (1.0.2)\n",
            "Requirement already satisfied: numpy>=1.10.4 in /usr/local/lib/python3.8/dist-packages (from mlxtend) (1.21.6)\n",
            "Requirement already satisfied: matplotlib>=1.5.1 in /usr/local/lib/python3.8/dist-packages (from mlxtend) (3.2.2)\n",
            "Requirement already satisfied: scipy>=0.17 in /usr/local/lib/python3.8/dist-packages (from mlxtend) (1.7.3)\n",
            "Requirement already satisfied: kiwisolver>=1.0.1 in /usr/local/lib/python3.8/dist-packages (from matplotlib>=1.5.1->mlxtend) (1.4.4)\n",
            "Requirement already satisfied: cycler>=0.10 in /usr/local/lib/python3.8/dist-packages (from matplotlib>=1.5.1->mlxtend) (0.11.0)\n",
            "Requirement already satisfied: python-dateutil>=2.1 in /usr/local/lib/python3.8/dist-packages (from matplotlib>=1.5.1->mlxtend) (2.8.2)\n",
            "Requirement already satisfied: pyparsing!=2.0.4,!=2.1.2,!=2.1.6,>=2.0.1 in /usr/local/lib/python3.8/dist-packages (from matplotlib>=1.5.1->mlxtend) (3.0.9)\n",
            "Requirement already satisfied: pytz>=2017.3 in /usr/local/lib/python3.8/dist-packages (from pandas>=0.17.1->mlxtend) (2022.6)\n",
            "Requirement already satisfied: six>=1.5 in /usr/local/lib/python3.8/dist-packages (from python-dateutil>=2.1->matplotlib>=1.5.1->mlxtend) (1.15.0)\n",
            "Requirement already satisfied: threadpoolctl>=2.0.0 in /usr/local/lib/python3.8/dist-packages (from scikit-learn>=0.18->mlxtend) (3.1.0)\n",
            "Requirement already satisfied: joblib>=0.11 in /usr/local/lib/python3.8/dist-packages (from scikit-learn>=0.18->mlxtend) (1.2.0)\n"
          ]
        }
      ],
      "source": [
        "## Importing the necessary libraries\n",
        "## pandas is a python livrary for working with datasets\n",
        "\n",
        "import pandas as pd\n",
        "import matplotlib.pyplot as plt   ## Matplotlib and seaborn is used for plotting graphs \n",
        "import numpy as np                 ## numpy meaning numeric python is used for calculations in pandas\n",
        "import seaborn as sns               ## Seaborn also used for plotting\n",
        "\n",
        "!pip install mlxtend"
      ]
    },
    {
      "cell_type": "code",
      "source": [
        "## Importing the divorce data set for this course work\n",
        "\n",
        "divorce_data = pd.read_excel('divorce.xlsx')"
      ],
      "metadata": {
        "id": "-gVkgls93GHw"
      },
      "execution_count": null,
      "outputs": []
    },
    {
      "cell_type": "code",
      "source": [
        "## Showing the first 5 rows and entire columns of the the divorce dataset\n",
        "\n",
        "divorce_data.head()"
      ],
      "metadata": {
        "colab": {
          "base_uri": "https://localhost:8080/",
          "height": 236
        },
        "id": "D5ViUOup3PDn",
        "outputId": "ea06a85a-4b31-4f14-d449-ee5b465f7c50"
      },
      "execution_count": null,
      "outputs": [
        {
          "output_type": "execute_result",
          "data": {
            "text/plain": [
              "   Atr1  Atr2  Atr3  Atr4  Atr5  Atr6  Atr7  Atr8  Atr9  Atr10  ...  Atr46  \\\n",
              "0     2     2     4     1     0     0     0     0     0      0  ...      2   \n",
              "1     4     4     4     4     4     0     0     4     4      4  ...      2   \n",
              "2     2     2     2     2     1     3     2     1     1      2  ...      3   \n",
              "3     3     2     3     2     3     3     3     3     3      3  ...      2   \n",
              "4     2     2     1     1     1     1     0     0     0      0  ...      2   \n",
              "\n",
              "   Atr47  Atr48  Atr49  Atr50  Atr51  Atr52  Atr53  Atr54  Class  \n",
              "0      1      3      3      3      2      3      2      1      1  \n",
              "1      2      3      4      4      4      4      2      2      1  \n",
              "2      2      3      1      1      1      2      2      2      1  \n",
              "3      2      3      3      3      3      2      2      2      1  \n",
              "4      1      2      3      2      2      2      1      0      1  \n",
              "\n",
              "[5 rows x 55 columns]"
            ],
            "text/html": [
              "\n",
              "  <div id=\"df-b1fbec37-98b8-4b1b-aac8-eaf2de6009da\">\n",
              "    <div class=\"colab-df-container\">\n",
              "      <div>\n",
              "<style scoped>\n",
              "    .dataframe tbody tr th:only-of-type {\n",
              "        vertical-align: middle;\n",
              "    }\n",
              "\n",
              "    .dataframe tbody tr th {\n",
              "        vertical-align: top;\n",
              "    }\n",
              "\n",
              "    .dataframe thead th {\n",
              "        text-align: right;\n",
              "    }\n",
              "</style>\n",
              "<table border=\"1\" class=\"dataframe\">\n",
              "  <thead>\n",
              "    <tr style=\"text-align: right;\">\n",
              "      <th></th>\n",
              "      <th>Atr1</th>\n",
              "      <th>Atr2</th>\n",
              "      <th>Atr3</th>\n",
              "      <th>Atr4</th>\n",
              "      <th>Atr5</th>\n",
              "      <th>Atr6</th>\n",
              "      <th>Atr7</th>\n",
              "      <th>Atr8</th>\n",
              "      <th>Atr9</th>\n",
              "      <th>Atr10</th>\n",
              "      <th>...</th>\n",
              "      <th>Atr46</th>\n",
              "      <th>Atr47</th>\n",
              "      <th>Atr48</th>\n",
              "      <th>Atr49</th>\n",
              "      <th>Atr50</th>\n",
              "      <th>Atr51</th>\n",
              "      <th>Atr52</th>\n",
              "      <th>Atr53</th>\n",
              "      <th>Atr54</th>\n",
              "      <th>Class</th>\n",
              "    </tr>\n",
              "  </thead>\n",
              "  <tbody>\n",
              "    <tr>\n",
              "      <th>0</th>\n",
              "      <td>2</td>\n",
              "      <td>2</td>\n",
              "      <td>4</td>\n",
              "      <td>1</td>\n",
              "      <td>0</td>\n",
              "      <td>0</td>\n",
              "      <td>0</td>\n",
              "      <td>0</td>\n",
              "      <td>0</td>\n",
              "      <td>0</td>\n",
              "      <td>...</td>\n",
              "      <td>2</td>\n",
              "      <td>1</td>\n",
              "      <td>3</td>\n",
              "      <td>3</td>\n",
              "      <td>3</td>\n",
              "      <td>2</td>\n",
              "      <td>3</td>\n",
              "      <td>2</td>\n",
              "      <td>1</td>\n",
              "      <td>1</td>\n",
              "    </tr>\n",
              "    <tr>\n",
              "      <th>1</th>\n",
              "      <td>4</td>\n",
              "      <td>4</td>\n",
              "      <td>4</td>\n",
              "      <td>4</td>\n",
              "      <td>4</td>\n",
              "      <td>0</td>\n",
              "      <td>0</td>\n",
              "      <td>4</td>\n",
              "      <td>4</td>\n",
              "      <td>4</td>\n",
              "      <td>...</td>\n",
              "      <td>2</td>\n",
              "      <td>2</td>\n",
              "      <td>3</td>\n",
              "      <td>4</td>\n",
              "      <td>4</td>\n",
              "      <td>4</td>\n",
              "      <td>4</td>\n",
              "      <td>2</td>\n",
              "      <td>2</td>\n",
              "      <td>1</td>\n",
              "    </tr>\n",
              "    <tr>\n",
              "      <th>2</th>\n",
              "      <td>2</td>\n",
              "      <td>2</td>\n",
              "      <td>2</td>\n",
              "      <td>2</td>\n",
              "      <td>1</td>\n",
              "      <td>3</td>\n",
              "      <td>2</td>\n",
              "      <td>1</td>\n",
              "      <td>1</td>\n",
              "      <td>2</td>\n",
              "      <td>...</td>\n",
              "      <td>3</td>\n",
              "      <td>2</td>\n",
              "      <td>3</td>\n",
              "      <td>1</td>\n",
              "      <td>1</td>\n",
              "      <td>1</td>\n",
              "      <td>2</td>\n",
              "      <td>2</td>\n",
              "      <td>2</td>\n",
              "      <td>1</td>\n",
              "    </tr>\n",
              "    <tr>\n",
              "      <th>3</th>\n",
              "      <td>3</td>\n",
              "      <td>2</td>\n",
              "      <td>3</td>\n",
              "      <td>2</td>\n",
              "      <td>3</td>\n",
              "      <td>3</td>\n",
              "      <td>3</td>\n",
              "      <td>3</td>\n",
              "      <td>3</td>\n",
              "      <td>3</td>\n",
              "      <td>...</td>\n",
              "      <td>2</td>\n",
              "      <td>2</td>\n",
              "      <td>3</td>\n",
              "      <td>3</td>\n",
              "      <td>3</td>\n",
              "      <td>3</td>\n",
              "      <td>2</td>\n",
              "      <td>2</td>\n",
              "      <td>2</td>\n",
              "      <td>1</td>\n",
              "    </tr>\n",
              "    <tr>\n",
              "      <th>4</th>\n",
              "      <td>2</td>\n",
              "      <td>2</td>\n",
              "      <td>1</td>\n",
              "      <td>1</td>\n",
              "      <td>1</td>\n",
              "      <td>1</td>\n",
              "      <td>0</td>\n",
              "      <td>0</td>\n",
              "      <td>0</td>\n",
              "      <td>0</td>\n",
              "      <td>...</td>\n",
              "      <td>2</td>\n",
              "      <td>1</td>\n",
              "      <td>2</td>\n",
              "      <td>3</td>\n",
              "      <td>2</td>\n",
              "      <td>2</td>\n",
              "      <td>2</td>\n",
              "      <td>1</td>\n",
              "      <td>0</td>\n",
              "      <td>1</td>\n",
              "    </tr>\n",
              "  </tbody>\n",
              "</table>\n",
              "<p>5 rows × 55 columns</p>\n",
              "</div>\n",
              "      <button class=\"colab-df-convert\" onclick=\"convertToInteractive('df-b1fbec37-98b8-4b1b-aac8-eaf2de6009da')\"\n",
              "              title=\"Convert this dataframe to an interactive table.\"\n",
              "              style=\"display:none;\">\n",
              "        \n",
              "  <svg xmlns=\"http://www.w3.org/2000/svg\" height=\"24px\"viewBox=\"0 0 24 24\"\n",
              "       width=\"24px\">\n",
              "    <path d=\"M0 0h24v24H0V0z\" fill=\"none\"/>\n",
              "    <path d=\"M18.56 5.44l.94 2.06.94-2.06 2.06-.94-2.06-.94-.94-2.06-.94 2.06-2.06.94zm-11 1L8.5 8.5l.94-2.06 2.06-.94-2.06-.94L8.5 2.5l-.94 2.06-2.06.94zm10 10l.94 2.06.94-2.06 2.06-.94-2.06-.94-.94-2.06-.94 2.06-2.06.94z\"/><path d=\"M17.41 7.96l-1.37-1.37c-.4-.4-.92-.59-1.43-.59-.52 0-1.04.2-1.43.59L10.3 9.45l-7.72 7.72c-.78.78-.78 2.05 0 2.83L4 21.41c.39.39.9.59 1.41.59.51 0 1.02-.2 1.41-.59l7.78-7.78 2.81-2.81c.8-.78.8-2.07 0-2.86zM5.41 20L4 18.59l7.72-7.72 1.47 1.35L5.41 20z\"/>\n",
              "  </svg>\n",
              "      </button>\n",
              "      \n",
              "  <style>\n",
              "    .colab-df-container {\n",
              "      display:flex;\n",
              "      flex-wrap:wrap;\n",
              "      gap: 12px;\n",
              "    }\n",
              "\n",
              "    .colab-df-convert {\n",
              "      background-color: #E8F0FE;\n",
              "      border: none;\n",
              "      border-radius: 50%;\n",
              "      cursor: pointer;\n",
              "      display: none;\n",
              "      fill: #1967D2;\n",
              "      height: 32px;\n",
              "      padding: 0 0 0 0;\n",
              "      width: 32px;\n",
              "    }\n",
              "\n",
              "    .colab-df-convert:hover {\n",
              "      background-color: #E2EBFA;\n",
              "      box-shadow: 0px 1px 2px rgba(60, 64, 67, 0.3), 0px 1px 3px 1px rgba(60, 64, 67, 0.15);\n",
              "      fill: #174EA6;\n",
              "    }\n",
              "\n",
              "    [theme=dark] .colab-df-convert {\n",
              "      background-color: #3B4455;\n",
              "      fill: #D2E3FC;\n",
              "    }\n",
              "\n",
              "    [theme=dark] .colab-df-convert:hover {\n",
              "      background-color: #434B5C;\n",
              "      box-shadow: 0px 1px 3px 1px rgba(0, 0, 0, 0.15);\n",
              "      filter: drop-shadow(0px 1px 2px rgba(0, 0, 0, 0.3));\n",
              "      fill: #FFFFFF;\n",
              "    }\n",
              "  </style>\n",
              "\n",
              "      <script>\n",
              "        const buttonEl =\n",
              "          document.querySelector('#df-b1fbec37-98b8-4b1b-aac8-eaf2de6009da button.colab-df-convert');\n",
              "        buttonEl.style.display =\n",
              "          google.colab.kernel.accessAllowed ? 'block' : 'none';\n",
              "\n",
              "        async function convertToInteractive(key) {\n",
              "          const element = document.querySelector('#df-b1fbec37-98b8-4b1b-aac8-eaf2de6009da');\n",
              "          const dataTable =\n",
              "            await google.colab.kernel.invokeFunction('convertToInteractive',\n",
              "                                                     [key], {});\n",
              "          if (!dataTable) return;\n",
              "\n",
              "          const docLinkHtml = 'Like what you see? Visit the ' +\n",
              "            '<a target=\"_blank\" href=https://colab.research.google.com/notebooks/data_table.ipynb>data table notebook</a>'\n",
              "            + ' to learn more about interactive tables.';\n",
              "          element.innerHTML = '';\n",
              "          dataTable['output_type'] = 'display_data';\n",
              "          await google.colab.output.renderOutput(dataTable, element);\n",
              "          const docLink = document.createElement('div');\n",
              "          docLink.innerHTML = docLinkHtml;\n",
              "          element.appendChild(docLink);\n",
              "        }\n",
              "      </script>\n",
              "    </div>\n",
              "  </div>\n",
              "  "
            ]
          },
          "metadata": {},
          "execution_count": 3
        }
      ]
    },
    {
      "cell_type": "code",
      "source": [
        "# when getting an idea of the entire rows and column we use the command below\n",
        "\n",
        "divorce_data.shape  "
      ],
      "metadata": {
        "colab": {
          "base_uri": "https://localhost:8080/"
        },
        "id": "NDTOLzLs3VA-",
        "outputId": "dacb002c-dd62-4a00-930d-c408254ad947"
      },
      "execution_count": null,
      "outputs": [
        {
          "output_type": "execute_result",
          "data": {
            "text/plain": [
              "(170, 55)"
            ]
          },
          "metadata": {},
          "execution_count": 4
        }
      ]
    },
    {
      "cell_type": "code",
      "source": [
        "from pandas.core.dtypes.dtypes import dtypes\n",
        "type(divorce_data)"
      ],
      "metadata": {
        "colab": {
          "base_uri": "https://localhost:8080/"
        },
        "id": "uHOkKAON3ZD2",
        "outputId": "0fb69ecb-be49-418c-8a5d-c5436ba1b1ab"
      },
      "execution_count": null,
      "outputs": [
        {
          "output_type": "execute_result",
          "data": {
            "text/plain": [
              "pandas.core.frame.DataFrame"
            ]
          },
          "metadata": {},
          "execution_count": 5
        }
      ]
    },
    {
      "cell_type": "markdown",
      "source": [
        "DATA PREPROCESSING\n",
        "\n",
        "For the data set we need to check in the dtypes of each column is either float,interger or object.we cant do math on objects so we have to convert to integers we if have any."
      ],
      "metadata": {
        "id": "KgSYLedy3fhr"
      }
    },
    {
      "cell_type": "code",
      "source": [
        "## Checking on the atributes of the character in the dataset\n",
        "\n",
        "divorce_data.info()"
      ],
      "metadata": {
        "colab": {
          "base_uri": "https://localhost:8080/"
        },
        "id": "ps8neEzw3idM",
        "outputId": "535a4aff-2369-48ca-9a84-5c830de602d9"
      },
      "execution_count": null,
      "outputs": [
        {
          "output_type": "stream",
          "name": "stdout",
          "text": [
            "<class 'pandas.core.frame.DataFrame'>\n",
            "RangeIndex: 170 entries, 0 to 169\n",
            "Data columns (total 55 columns):\n",
            " #   Column  Non-Null Count  Dtype\n",
            "---  ------  --------------  -----\n",
            " 0   Atr1    170 non-null    int64\n",
            " 1   Atr2    170 non-null    int64\n",
            " 2   Atr3    170 non-null    int64\n",
            " 3   Atr4    170 non-null    int64\n",
            " 4   Atr5    170 non-null    int64\n",
            " 5   Atr6    170 non-null    int64\n",
            " 6   Atr7    170 non-null    int64\n",
            " 7   Atr8    170 non-null    int64\n",
            " 8   Atr9    170 non-null    int64\n",
            " 9   Atr10   170 non-null    int64\n",
            " 10  Atr11   170 non-null    int64\n",
            " 11  Atr12   170 non-null    int64\n",
            " 12  Atr13   170 non-null    int64\n",
            " 13  Atr14   170 non-null    int64\n",
            " 14  Atr15   170 non-null    int64\n",
            " 15  Atr16   170 non-null    int64\n",
            " 16  Atr17   170 non-null    int64\n",
            " 17  Atr18   170 non-null    int64\n",
            " 18  Atr19   170 non-null    int64\n",
            " 19  Atr20   170 non-null    int64\n",
            " 20  Atr21   170 non-null    int64\n",
            " 21  Atr22   170 non-null    int64\n",
            " 22  Atr23   170 non-null    int64\n",
            " 23  Atr24   170 non-null    int64\n",
            " 24  Atr25   170 non-null    int64\n",
            " 25  Atr26   170 non-null    int64\n",
            " 26  Atr27   170 non-null    int64\n",
            " 27  Atr28   170 non-null    int64\n",
            " 28  Atr29   170 non-null    int64\n",
            " 29  Atr30   170 non-null    int64\n",
            " 30  Atr31   170 non-null    int64\n",
            " 31  Atr32   170 non-null    int64\n",
            " 32  Atr33   170 non-null    int64\n",
            " 33  Atr34   170 non-null    int64\n",
            " 34  Atr35   170 non-null    int64\n",
            " 35  Atr36   170 non-null    int64\n",
            " 36  Atr37   170 non-null    int64\n",
            " 37  Atr38   170 non-null    int64\n",
            " 38  Atr39   170 non-null    int64\n",
            " 39  Atr40   170 non-null    int64\n",
            " 40  Atr41   170 non-null    int64\n",
            " 41  Atr42   170 non-null    int64\n",
            " 42  Atr43   170 non-null    int64\n",
            " 43  Atr44   170 non-null    int64\n",
            " 44  Atr45   170 non-null    int64\n",
            " 45  Atr46   170 non-null    int64\n",
            " 46  Atr47   170 non-null    int64\n",
            " 47  Atr48   170 non-null    int64\n",
            " 48  Atr49   170 non-null    int64\n",
            " 49  Atr50   170 non-null    int64\n",
            " 50  Atr51   170 non-null    int64\n",
            " 51  Atr52   170 non-null    int64\n",
            " 52  Atr53   170 non-null    int64\n",
            " 53  Atr54   170 non-null    int64\n",
            " 54  Class   170 non-null    int64\n",
            "dtypes: int64(55)\n",
            "memory usage: 73.2 KB\n"
          ]
        }
      ]
    },
    {
      "cell_type": "code",
      "source": [
        "# checking for total null values in each rows and column\n",
        "\n",
        "divorce_data.isnull().sum().transpose()"
      ],
      "metadata": {
        "colab": {
          "base_uri": "https://localhost:8080/"
        },
        "id": "mKeZ6CiG3plb",
        "outputId": "bf0d3aef-832a-48e7-ec1a-466901e3e7a3"
      },
      "execution_count": null,
      "outputs": [
        {
          "output_type": "execute_result",
          "data": {
            "text/plain": [
              "Atr1     0\n",
              "Atr2     0\n",
              "Atr3     0\n",
              "Atr4     0\n",
              "Atr5     0\n",
              "Atr6     0\n",
              "Atr7     0\n",
              "Atr8     0\n",
              "Atr9     0\n",
              "Atr10    0\n",
              "Atr11    0\n",
              "Atr12    0\n",
              "Atr13    0\n",
              "Atr14    0\n",
              "Atr15    0\n",
              "Atr16    0\n",
              "Atr17    0\n",
              "Atr18    0\n",
              "Atr19    0\n",
              "Atr20    0\n",
              "Atr21    0\n",
              "Atr22    0\n",
              "Atr23    0\n",
              "Atr24    0\n",
              "Atr25    0\n",
              "Atr26    0\n",
              "Atr27    0\n",
              "Atr28    0\n",
              "Atr29    0\n",
              "Atr30    0\n",
              "Atr31    0\n",
              "Atr32    0\n",
              "Atr33    0\n",
              "Atr34    0\n",
              "Atr35    0\n",
              "Atr36    0\n",
              "Atr37    0\n",
              "Atr38    0\n",
              "Atr39    0\n",
              "Atr40    0\n",
              "Atr41    0\n",
              "Atr42    0\n",
              "Atr43    0\n",
              "Atr44    0\n",
              "Atr45    0\n",
              "Atr46    0\n",
              "Atr47    0\n",
              "Atr48    0\n",
              "Atr49    0\n",
              "Atr50    0\n",
              "Atr51    0\n",
              "Atr52    0\n",
              "Atr53    0\n",
              "Atr54    0\n",
              "Class    0\n",
              "dtype: int64"
            ]
          },
          "metadata": {},
          "execution_count": 7
        }
      ]
    },
    {
      "cell_type": "code",
      "source": [
        "## describing all characteristics of the dataset( count\tmean\tstd\tmin\t25%\t50%\t75%\tmax for each column), include all and transpose for convenience\n",
        "\n",
        "divorce_data.describe(include = 'all').transpose()   "
      ],
      "metadata": {
        "colab": {
          "base_uri": "https://localhost:8080/",
          "height": 1000
        },
        "id": "Su358ILI3y2b",
        "outputId": "5f11644c-bd85-40e3-ea36-a5a392c22b2c"
      },
      "execution_count": null,
      "outputs": [
        {
          "output_type": "execute_result",
          "data": {
            "text/plain": [
              "       count      mean       std  min  25%  50%  75%  max\n",
              "Atr1   170.0  1.776471  1.627257  0.0  0.0  2.0  3.0  4.0\n",
              "Atr2   170.0  1.652941  1.468654  0.0  0.0  2.0  3.0  4.0\n",
              "Atr3   170.0  1.764706  1.415444  0.0  0.0  2.0  3.0  4.0\n",
              "Atr4   170.0  1.482353  1.504327  0.0  0.0  1.0  3.0  4.0\n",
              "Atr5   170.0  1.541176  1.632169  0.0  0.0  1.0  3.0  4.0\n",
              "Atr6   170.0  0.747059  0.904046  0.0  0.0  0.0  1.0  4.0\n",
              "Atr7   170.0  0.494118  0.898698  0.0  0.0  0.0  1.0  4.0\n",
              "Atr8   170.0  1.452941  1.546371  0.0  0.0  1.0  3.0  4.0\n",
              "Atr9   170.0  1.458824  1.557976  0.0  0.0  1.0  3.0  4.0\n",
              "Atr10  170.0  1.576471  1.421529  0.0  0.0  2.0  3.0  4.0\n",
              "Atr11  170.0  1.688235  1.647082  0.0  0.0  1.0  3.0  4.0\n",
              "Atr12  170.0  1.652941  1.468654  0.0  0.0  1.5  3.0  4.0\n",
              "Atr13  170.0  1.835294  1.478421  0.0  0.0  2.0  3.0  4.0\n",
              "Atr14  170.0  1.570588  1.502765  0.0  0.0  1.0  3.0  4.0\n",
              "Atr15  170.0  1.570588  1.506697  0.0  0.0  1.0  3.0  4.0\n",
              "Atr16  170.0  1.476471  1.504246  0.0  0.0  1.0  3.0  4.0\n",
              "Atr17  170.0  1.652941  1.614512  0.0  0.0  1.0  3.0  4.0\n",
              "Atr18  170.0  1.517647  1.565998  0.0  0.0  1.0  3.0  4.0\n",
              "Atr19  170.0  1.641176  1.641027  0.0  0.0  1.0  3.0  4.0\n",
              "Atr20  170.0  1.458824  1.554173  0.0  0.0  1.0  3.0  4.0\n",
              "Atr21  170.0  1.388235  1.452149  0.0  0.0  1.0  3.0  4.0\n",
              "Atr22  170.0  1.247059  1.446529  0.0  0.0  0.0  3.0  4.0\n",
              "Atr23  170.0  1.411765  1.612041  0.0  0.0  0.0  3.0  4.0\n",
              "Atr24  170.0  1.511765  1.504385  0.0  0.0  1.0  3.0  4.0\n",
              "Atr25  170.0  1.629412  1.530079  0.0  0.0  1.0  3.0  4.0\n",
              "Atr26  170.0  1.488235  1.500447  0.0  0.0  1.0  3.0  4.0\n",
              "Atr27  170.0  1.400000  1.457078  0.0  0.0  1.0  3.0  4.0\n",
              "Atr28  170.0  1.305882  1.467788  0.0  0.0  0.5  3.0  4.0\n",
              "Atr29  170.0  1.494118  1.592315  0.0  0.0  1.0  3.0  4.0\n",
              "Atr30  170.0  1.494118  1.504420  0.0  0.0  1.0  3.0  4.0\n",
              "Atr31  170.0  2.123529  1.646955  0.0  0.0  2.0  4.0  4.0\n",
              "Atr32  170.0  2.058824  1.623445  0.0  0.0  2.0  4.0  4.0\n",
              "Atr33  170.0  1.805882  1.785202  0.0  0.0  1.0  4.0  4.0\n",
              "Atr34  170.0  1.900000  1.630515  0.0  0.0  1.0  4.0  4.0\n",
              "Atr35  170.0  1.670588  1.842228  0.0  0.0  0.5  4.0  4.0\n",
              "Atr36  170.0  1.605882  1.798412  0.0  0.0  0.0  4.0  4.0\n",
              "Atr37  170.0  2.088235  1.716051  0.0  0.0  2.0  4.0  4.0\n",
              "Atr38  170.0  1.858824  1.734802  0.0  0.0  1.0  4.0  4.0\n",
              "Atr39  170.0  2.088235  1.719496  0.0  0.0  2.0  4.0  4.0\n",
              "Atr40  170.0  1.870588  1.796039  0.0  0.0  1.5  4.0  4.0\n",
              "Atr41  170.0  1.994118  1.721761  0.0  0.0  2.0  4.0  4.0\n",
              "Atr42  170.0  2.158824  1.574034  0.0  0.0  2.0  4.0  4.0\n",
              "Atr43  170.0  2.705882  1.348447  0.0  2.0  3.0  4.0  4.0\n",
              "Atr44  170.0  1.941176  1.684267  0.0  0.0  2.0  4.0  4.0\n",
              "Atr45  170.0  2.458824  1.499925  0.0  1.0  3.0  4.0  4.0\n",
              "Atr46  170.0  2.552941  1.371786  0.0  2.0  3.0  4.0  4.0\n",
              "Atr47  170.0  2.270588  1.586841  0.0  1.0  2.0  4.0  4.0\n",
              "Atr48  170.0  2.741176  1.137348  0.0  2.0  3.0  4.0  4.0\n",
              "Atr49  170.0  2.382353  1.511587  0.0  1.0  3.0  4.0  4.0\n",
              "Atr50  170.0  2.429412  1.405090  0.0  1.0  2.0  4.0  4.0\n",
              "Atr51  170.0  2.476471  1.260238  0.0  2.0  3.0  4.0  4.0\n",
              "Atr52  170.0  2.517647  1.476537  0.0  1.0  3.0  4.0  4.0\n",
              "Atr53  170.0  2.241176  1.505634  0.0  1.0  2.0  4.0  4.0\n",
              "Atr54  170.0  2.011765  1.667611  0.0  0.0  2.0  4.0  4.0\n",
              "Class  170.0  0.494118  0.501442  0.0  0.0  0.0  1.0  1.0"
            ],
            "text/html": [
              "\n",
              "  <div id=\"df-0d20fd77-ab80-4385-b04d-480a4a5cba97\">\n",
              "    <div class=\"colab-df-container\">\n",
              "      <div>\n",
              "<style scoped>\n",
              "    .dataframe tbody tr th:only-of-type {\n",
              "        vertical-align: middle;\n",
              "    }\n",
              "\n",
              "    .dataframe tbody tr th {\n",
              "        vertical-align: top;\n",
              "    }\n",
              "\n",
              "    .dataframe thead th {\n",
              "        text-align: right;\n",
              "    }\n",
              "</style>\n",
              "<table border=\"1\" class=\"dataframe\">\n",
              "  <thead>\n",
              "    <tr style=\"text-align: right;\">\n",
              "      <th></th>\n",
              "      <th>count</th>\n",
              "      <th>mean</th>\n",
              "      <th>std</th>\n",
              "      <th>min</th>\n",
              "      <th>25%</th>\n",
              "      <th>50%</th>\n",
              "      <th>75%</th>\n",
              "      <th>max</th>\n",
              "    </tr>\n",
              "  </thead>\n",
              "  <tbody>\n",
              "    <tr>\n",
              "      <th>Atr1</th>\n",
              "      <td>170.0</td>\n",
              "      <td>1.776471</td>\n",
              "      <td>1.627257</td>\n",
              "      <td>0.0</td>\n",
              "      <td>0.0</td>\n",
              "      <td>2.0</td>\n",
              "      <td>3.0</td>\n",
              "      <td>4.0</td>\n",
              "    </tr>\n",
              "    <tr>\n",
              "      <th>Atr2</th>\n",
              "      <td>170.0</td>\n",
              "      <td>1.652941</td>\n",
              "      <td>1.468654</td>\n",
              "      <td>0.0</td>\n",
              "      <td>0.0</td>\n",
              "      <td>2.0</td>\n",
              "      <td>3.0</td>\n",
              "      <td>4.0</td>\n",
              "    </tr>\n",
              "    <tr>\n",
              "      <th>Atr3</th>\n",
              "      <td>170.0</td>\n",
              "      <td>1.764706</td>\n",
              "      <td>1.415444</td>\n",
              "      <td>0.0</td>\n",
              "      <td>0.0</td>\n",
              "      <td>2.0</td>\n",
              "      <td>3.0</td>\n",
              "      <td>4.0</td>\n",
              "    </tr>\n",
              "    <tr>\n",
              "      <th>Atr4</th>\n",
              "      <td>170.0</td>\n",
              "      <td>1.482353</td>\n",
              "      <td>1.504327</td>\n",
              "      <td>0.0</td>\n",
              "      <td>0.0</td>\n",
              "      <td>1.0</td>\n",
              "      <td>3.0</td>\n",
              "      <td>4.0</td>\n",
              "    </tr>\n",
              "    <tr>\n",
              "      <th>Atr5</th>\n",
              "      <td>170.0</td>\n",
              "      <td>1.541176</td>\n",
              "      <td>1.632169</td>\n",
              "      <td>0.0</td>\n",
              "      <td>0.0</td>\n",
              "      <td>1.0</td>\n",
              "      <td>3.0</td>\n",
              "      <td>4.0</td>\n",
              "    </tr>\n",
              "    <tr>\n",
              "      <th>Atr6</th>\n",
              "      <td>170.0</td>\n",
              "      <td>0.747059</td>\n",
              "      <td>0.904046</td>\n",
              "      <td>0.0</td>\n",
              "      <td>0.0</td>\n",
              "      <td>0.0</td>\n",
              "      <td>1.0</td>\n",
              "      <td>4.0</td>\n",
              "    </tr>\n",
              "    <tr>\n",
              "      <th>Atr7</th>\n",
              "      <td>170.0</td>\n",
              "      <td>0.494118</td>\n",
              "      <td>0.898698</td>\n",
              "      <td>0.0</td>\n",
              "      <td>0.0</td>\n",
              "      <td>0.0</td>\n",
              "      <td>1.0</td>\n",
              "      <td>4.0</td>\n",
              "    </tr>\n",
              "    <tr>\n",
              "      <th>Atr8</th>\n",
              "      <td>170.0</td>\n",
              "      <td>1.452941</td>\n",
              "      <td>1.546371</td>\n",
              "      <td>0.0</td>\n",
              "      <td>0.0</td>\n",
              "      <td>1.0</td>\n",
              "      <td>3.0</td>\n",
              "      <td>4.0</td>\n",
              "    </tr>\n",
              "    <tr>\n",
              "      <th>Atr9</th>\n",
              "      <td>170.0</td>\n",
              "      <td>1.458824</td>\n",
              "      <td>1.557976</td>\n",
              "      <td>0.0</td>\n",
              "      <td>0.0</td>\n",
              "      <td>1.0</td>\n",
              "      <td>3.0</td>\n",
              "      <td>4.0</td>\n",
              "    </tr>\n",
              "    <tr>\n",
              "      <th>Atr10</th>\n",
              "      <td>170.0</td>\n",
              "      <td>1.576471</td>\n",
              "      <td>1.421529</td>\n",
              "      <td>0.0</td>\n",
              "      <td>0.0</td>\n",
              "      <td>2.0</td>\n",
              "      <td>3.0</td>\n",
              "      <td>4.0</td>\n",
              "    </tr>\n",
              "    <tr>\n",
              "      <th>Atr11</th>\n",
              "      <td>170.0</td>\n",
              "      <td>1.688235</td>\n",
              "      <td>1.647082</td>\n",
              "      <td>0.0</td>\n",
              "      <td>0.0</td>\n",
              "      <td>1.0</td>\n",
              "      <td>3.0</td>\n",
              "      <td>4.0</td>\n",
              "    </tr>\n",
              "    <tr>\n",
              "      <th>Atr12</th>\n",
              "      <td>170.0</td>\n",
              "      <td>1.652941</td>\n",
              "      <td>1.468654</td>\n",
              "      <td>0.0</td>\n",
              "      <td>0.0</td>\n",
              "      <td>1.5</td>\n",
              "      <td>3.0</td>\n",
              "      <td>4.0</td>\n",
              "    </tr>\n",
              "    <tr>\n",
              "      <th>Atr13</th>\n",
              "      <td>170.0</td>\n",
              "      <td>1.835294</td>\n",
              "      <td>1.478421</td>\n",
              "      <td>0.0</td>\n",
              "      <td>0.0</td>\n",
              "      <td>2.0</td>\n",
              "      <td>3.0</td>\n",
              "      <td>4.0</td>\n",
              "    </tr>\n",
              "    <tr>\n",
              "      <th>Atr14</th>\n",
              "      <td>170.0</td>\n",
              "      <td>1.570588</td>\n",
              "      <td>1.502765</td>\n",
              "      <td>0.0</td>\n",
              "      <td>0.0</td>\n",
              "      <td>1.0</td>\n",
              "      <td>3.0</td>\n",
              "      <td>4.0</td>\n",
              "    </tr>\n",
              "    <tr>\n",
              "      <th>Atr15</th>\n",
              "      <td>170.0</td>\n",
              "      <td>1.570588</td>\n",
              "      <td>1.506697</td>\n",
              "      <td>0.0</td>\n",
              "      <td>0.0</td>\n",
              "      <td>1.0</td>\n",
              "      <td>3.0</td>\n",
              "      <td>4.0</td>\n",
              "    </tr>\n",
              "    <tr>\n",
              "      <th>Atr16</th>\n",
              "      <td>170.0</td>\n",
              "      <td>1.476471</td>\n",
              "      <td>1.504246</td>\n",
              "      <td>0.0</td>\n",
              "      <td>0.0</td>\n",
              "      <td>1.0</td>\n",
              "      <td>3.0</td>\n",
              "      <td>4.0</td>\n",
              "    </tr>\n",
              "    <tr>\n",
              "      <th>Atr17</th>\n",
              "      <td>170.0</td>\n",
              "      <td>1.652941</td>\n",
              "      <td>1.614512</td>\n",
              "      <td>0.0</td>\n",
              "      <td>0.0</td>\n",
              "      <td>1.0</td>\n",
              "      <td>3.0</td>\n",
              "      <td>4.0</td>\n",
              "    </tr>\n",
              "    <tr>\n",
              "      <th>Atr18</th>\n",
              "      <td>170.0</td>\n",
              "      <td>1.517647</td>\n",
              "      <td>1.565998</td>\n",
              "      <td>0.0</td>\n",
              "      <td>0.0</td>\n",
              "      <td>1.0</td>\n",
              "      <td>3.0</td>\n",
              "      <td>4.0</td>\n",
              "    </tr>\n",
              "    <tr>\n",
              "      <th>Atr19</th>\n",
              "      <td>170.0</td>\n",
              "      <td>1.641176</td>\n",
              "      <td>1.641027</td>\n",
              "      <td>0.0</td>\n",
              "      <td>0.0</td>\n",
              "      <td>1.0</td>\n",
              "      <td>3.0</td>\n",
              "      <td>4.0</td>\n",
              "    </tr>\n",
              "    <tr>\n",
              "      <th>Atr20</th>\n",
              "      <td>170.0</td>\n",
              "      <td>1.458824</td>\n",
              "      <td>1.554173</td>\n",
              "      <td>0.0</td>\n",
              "      <td>0.0</td>\n",
              "      <td>1.0</td>\n",
              "      <td>3.0</td>\n",
              "      <td>4.0</td>\n",
              "    </tr>\n",
              "    <tr>\n",
              "      <th>Atr21</th>\n",
              "      <td>170.0</td>\n",
              "      <td>1.388235</td>\n",
              "      <td>1.452149</td>\n",
              "      <td>0.0</td>\n",
              "      <td>0.0</td>\n",
              "      <td>1.0</td>\n",
              "      <td>3.0</td>\n",
              "      <td>4.0</td>\n",
              "    </tr>\n",
              "    <tr>\n",
              "      <th>Atr22</th>\n",
              "      <td>170.0</td>\n",
              "      <td>1.247059</td>\n",
              "      <td>1.446529</td>\n",
              "      <td>0.0</td>\n",
              "      <td>0.0</td>\n",
              "      <td>0.0</td>\n",
              "      <td>3.0</td>\n",
              "      <td>4.0</td>\n",
              "    </tr>\n",
              "    <tr>\n",
              "      <th>Atr23</th>\n",
              "      <td>170.0</td>\n",
              "      <td>1.411765</td>\n",
              "      <td>1.612041</td>\n",
              "      <td>0.0</td>\n",
              "      <td>0.0</td>\n",
              "      <td>0.0</td>\n",
              "      <td>3.0</td>\n",
              "      <td>4.0</td>\n",
              "    </tr>\n",
              "    <tr>\n",
              "      <th>Atr24</th>\n",
              "      <td>170.0</td>\n",
              "      <td>1.511765</td>\n",
              "      <td>1.504385</td>\n",
              "      <td>0.0</td>\n",
              "      <td>0.0</td>\n",
              "      <td>1.0</td>\n",
              "      <td>3.0</td>\n",
              "      <td>4.0</td>\n",
              "    </tr>\n",
              "    <tr>\n",
              "      <th>Atr25</th>\n",
              "      <td>170.0</td>\n",
              "      <td>1.629412</td>\n",
              "      <td>1.530079</td>\n",
              "      <td>0.0</td>\n",
              "      <td>0.0</td>\n",
              "      <td>1.0</td>\n",
              "      <td>3.0</td>\n",
              "      <td>4.0</td>\n",
              "    </tr>\n",
              "    <tr>\n",
              "      <th>Atr26</th>\n",
              "      <td>170.0</td>\n",
              "      <td>1.488235</td>\n",
              "      <td>1.500447</td>\n",
              "      <td>0.0</td>\n",
              "      <td>0.0</td>\n",
              "      <td>1.0</td>\n",
              "      <td>3.0</td>\n",
              "      <td>4.0</td>\n",
              "    </tr>\n",
              "    <tr>\n",
              "      <th>Atr27</th>\n",
              "      <td>170.0</td>\n",
              "      <td>1.400000</td>\n",
              "      <td>1.457078</td>\n",
              "      <td>0.0</td>\n",
              "      <td>0.0</td>\n",
              "      <td>1.0</td>\n",
              "      <td>3.0</td>\n",
              "      <td>4.0</td>\n",
              "    </tr>\n",
              "    <tr>\n",
              "      <th>Atr28</th>\n",
              "      <td>170.0</td>\n",
              "      <td>1.305882</td>\n",
              "      <td>1.467788</td>\n",
              "      <td>0.0</td>\n",
              "      <td>0.0</td>\n",
              "      <td>0.5</td>\n",
              "      <td>3.0</td>\n",
              "      <td>4.0</td>\n",
              "    </tr>\n",
              "    <tr>\n",
              "      <th>Atr29</th>\n",
              "      <td>170.0</td>\n",
              "      <td>1.494118</td>\n",
              "      <td>1.592315</td>\n",
              "      <td>0.0</td>\n",
              "      <td>0.0</td>\n",
              "      <td>1.0</td>\n",
              "      <td>3.0</td>\n",
              "      <td>4.0</td>\n",
              "    </tr>\n",
              "    <tr>\n",
              "      <th>Atr30</th>\n",
              "      <td>170.0</td>\n",
              "      <td>1.494118</td>\n",
              "      <td>1.504420</td>\n",
              "      <td>0.0</td>\n",
              "      <td>0.0</td>\n",
              "      <td>1.0</td>\n",
              "      <td>3.0</td>\n",
              "      <td>4.0</td>\n",
              "    </tr>\n",
              "    <tr>\n",
              "      <th>Atr31</th>\n",
              "      <td>170.0</td>\n",
              "      <td>2.123529</td>\n",
              "      <td>1.646955</td>\n",
              "      <td>0.0</td>\n",
              "      <td>0.0</td>\n",
              "      <td>2.0</td>\n",
              "      <td>4.0</td>\n",
              "      <td>4.0</td>\n",
              "    </tr>\n",
              "    <tr>\n",
              "      <th>Atr32</th>\n",
              "      <td>170.0</td>\n",
              "      <td>2.058824</td>\n",
              "      <td>1.623445</td>\n",
              "      <td>0.0</td>\n",
              "      <td>0.0</td>\n",
              "      <td>2.0</td>\n",
              "      <td>4.0</td>\n",
              "      <td>4.0</td>\n",
              "    </tr>\n",
              "    <tr>\n",
              "      <th>Atr33</th>\n",
              "      <td>170.0</td>\n",
              "      <td>1.805882</td>\n",
              "      <td>1.785202</td>\n",
              "      <td>0.0</td>\n",
              "      <td>0.0</td>\n",
              "      <td>1.0</td>\n",
              "      <td>4.0</td>\n",
              "      <td>4.0</td>\n",
              "    </tr>\n",
              "    <tr>\n",
              "      <th>Atr34</th>\n",
              "      <td>170.0</td>\n",
              "      <td>1.900000</td>\n",
              "      <td>1.630515</td>\n",
              "      <td>0.0</td>\n",
              "      <td>0.0</td>\n",
              "      <td>1.0</td>\n",
              "      <td>4.0</td>\n",
              "      <td>4.0</td>\n",
              "    </tr>\n",
              "    <tr>\n",
              "      <th>Atr35</th>\n",
              "      <td>170.0</td>\n",
              "      <td>1.670588</td>\n",
              "      <td>1.842228</td>\n",
              "      <td>0.0</td>\n",
              "      <td>0.0</td>\n",
              "      <td>0.5</td>\n",
              "      <td>4.0</td>\n",
              "      <td>4.0</td>\n",
              "    </tr>\n",
              "    <tr>\n",
              "      <th>Atr36</th>\n",
              "      <td>170.0</td>\n",
              "      <td>1.605882</td>\n",
              "      <td>1.798412</td>\n",
              "      <td>0.0</td>\n",
              "      <td>0.0</td>\n",
              "      <td>0.0</td>\n",
              "      <td>4.0</td>\n",
              "      <td>4.0</td>\n",
              "    </tr>\n",
              "    <tr>\n",
              "      <th>Atr37</th>\n",
              "      <td>170.0</td>\n",
              "      <td>2.088235</td>\n",
              "      <td>1.716051</td>\n",
              "      <td>0.0</td>\n",
              "      <td>0.0</td>\n",
              "      <td>2.0</td>\n",
              "      <td>4.0</td>\n",
              "      <td>4.0</td>\n",
              "    </tr>\n",
              "    <tr>\n",
              "      <th>Atr38</th>\n",
              "      <td>170.0</td>\n",
              "      <td>1.858824</td>\n",
              "      <td>1.734802</td>\n",
              "      <td>0.0</td>\n",
              "      <td>0.0</td>\n",
              "      <td>1.0</td>\n",
              "      <td>4.0</td>\n",
              "      <td>4.0</td>\n",
              "    </tr>\n",
              "    <tr>\n",
              "      <th>Atr39</th>\n",
              "      <td>170.0</td>\n",
              "      <td>2.088235</td>\n",
              "      <td>1.719496</td>\n",
              "      <td>0.0</td>\n",
              "      <td>0.0</td>\n",
              "      <td>2.0</td>\n",
              "      <td>4.0</td>\n",
              "      <td>4.0</td>\n",
              "    </tr>\n",
              "    <tr>\n",
              "      <th>Atr40</th>\n",
              "      <td>170.0</td>\n",
              "      <td>1.870588</td>\n",
              "      <td>1.796039</td>\n",
              "      <td>0.0</td>\n",
              "      <td>0.0</td>\n",
              "      <td>1.5</td>\n",
              "      <td>4.0</td>\n",
              "      <td>4.0</td>\n",
              "    </tr>\n",
              "    <tr>\n",
              "      <th>Atr41</th>\n",
              "      <td>170.0</td>\n",
              "      <td>1.994118</td>\n",
              "      <td>1.721761</td>\n",
              "      <td>0.0</td>\n",
              "      <td>0.0</td>\n",
              "      <td>2.0</td>\n",
              "      <td>4.0</td>\n",
              "      <td>4.0</td>\n",
              "    </tr>\n",
              "    <tr>\n",
              "      <th>Atr42</th>\n",
              "      <td>170.0</td>\n",
              "      <td>2.158824</td>\n",
              "      <td>1.574034</td>\n",
              "      <td>0.0</td>\n",
              "      <td>0.0</td>\n",
              "      <td>2.0</td>\n",
              "      <td>4.0</td>\n",
              "      <td>4.0</td>\n",
              "    </tr>\n",
              "    <tr>\n",
              "      <th>Atr43</th>\n",
              "      <td>170.0</td>\n",
              "      <td>2.705882</td>\n",
              "      <td>1.348447</td>\n",
              "      <td>0.0</td>\n",
              "      <td>2.0</td>\n",
              "      <td>3.0</td>\n",
              "      <td>4.0</td>\n",
              "      <td>4.0</td>\n",
              "    </tr>\n",
              "    <tr>\n",
              "      <th>Atr44</th>\n",
              "      <td>170.0</td>\n",
              "      <td>1.941176</td>\n",
              "      <td>1.684267</td>\n",
              "      <td>0.0</td>\n",
              "      <td>0.0</td>\n",
              "      <td>2.0</td>\n",
              "      <td>4.0</td>\n",
              "      <td>4.0</td>\n",
              "    </tr>\n",
              "    <tr>\n",
              "      <th>Atr45</th>\n",
              "      <td>170.0</td>\n",
              "      <td>2.458824</td>\n",
              "      <td>1.499925</td>\n",
              "      <td>0.0</td>\n",
              "      <td>1.0</td>\n",
              "      <td>3.0</td>\n",
              "      <td>4.0</td>\n",
              "      <td>4.0</td>\n",
              "    </tr>\n",
              "    <tr>\n",
              "      <th>Atr46</th>\n",
              "      <td>170.0</td>\n",
              "      <td>2.552941</td>\n",
              "      <td>1.371786</td>\n",
              "      <td>0.0</td>\n",
              "      <td>2.0</td>\n",
              "      <td>3.0</td>\n",
              "      <td>4.0</td>\n",
              "      <td>4.0</td>\n",
              "    </tr>\n",
              "    <tr>\n",
              "      <th>Atr47</th>\n",
              "      <td>170.0</td>\n",
              "      <td>2.270588</td>\n",
              "      <td>1.586841</td>\n",
              "      <td>0.0</td>\n",
              "      <td>1.0</td>\n",
              "      <td>2.0</td>\n",
              "      <td>4.0</td>\n",
              "      <td>4.0</td>\n",
              "    </tr>\n",
              "    <tr>\n",
              "      <th>Atr48</th>\n",
              "      <td>170.0</td>\n",
              "      <td>2.741176</td>\n",
              "      <td>1.137348</td>\n",
              "      <td>0.0</td>\n",
              "      <td>2.0</td>\n",
              "      <td>3.0</td>\n",
              "      <td>4.0</td>\n",
              "      <td>4.0</td>\n",
              "    </tr>\n",
              "    <tr>\n",
              "      <th>Atr49</th>\n",
              "      <td>170.0</td>\n",
              "      <td>2.382353</td>\n",
              "      <td>1.511587</td>\n",
              "      <td>0.0</td>\n",
              "      <td>1.0</td>\n",
              "      <td>3.0</td>\n",
              "      <td>4.0</td>\n",
              "      <td>4.0</td>\n",
              "    </tr>\n",
              "    <tr>\n",
              "      <th>Atr50</th>\n",
              "      <td>170.0</td>\n",
              "      <td>2.429412</td>\n",
              "      <td>1.405090</td>\n",
              "      <td>0.0</td>\n",
              "      <td>1.0</td>\n",
              "      <td>2.0</td>\n",
              "      <td>4.0</td>\n",
              "      <td>4.0</td>\n",
              "    </tr>\n",
              "    <tr>\n",
              "      <th>Atr51</th>\n",
              "      <td>170.0</td>\n",
              "      <td>2.476471</td>\n",
              "      <td>1.260238</td>\n",
              "      <td>0.0</td>\n",
              "      <td>2.0</td>\n",
              "      <td>3.0</td>\n",
              "      <td>4.0</td>\n",
              "      <td>4.0</td>\n",
              "    </tr>\n",
              "    <tr>\n",
              "      <th>Atr52</th>\n",
              "      <td>170.0</td>\n",
              "      <td>2.517647</td>\n",
              "      <td>1.476537</td>\n",
              "      <td>0.0</td>\n",
              "      <td>1.0</td>\n",
              "      <td>3.0</td>\n",
              "      <td>4.0</td>\n",
              "      <td>4.0</td>\n",
              "    </tr>\n",
              "    <tr>\n",
              "      <th>Atr53</th>\n",
              "      <td>170.0</td>\n",
              "      <td>2.241176</td>\n",
              "      <td>1.505634</td>\n",
              "      <td>0.0</td>\n",
              "      <td>1.0</td>\n",
              "      <td>2.0</td>\n",
              "      <td>4.0</td>\n",
              "      <td>4.0</td>\n",
              "    </tr>\n",
              "    <tr>\n",
              "      <th>Atr54</th>\n",
              "      <td>170.0</td>\n",
              "      <td>2.011765</td>\n",
              "      <td>1.667611</td>\n",
              "      <td>0.0</td>\n",
              "      <td>0.0</td>\n",
              "      <td>2.0</td>\n",
              "      <td>4.0</td>\n",
              "      <td>4.0</td>\n",
              "    </tr>\n",
              "    <tr>\n",
              "      <th>Class</th>\n",
              "      <td>170.0</td>\n",
              "      <td>0.494118</td>\n",
              "      <td>0.501442</td>\n",
              "      <td>0.0</td>\n",
              "      <td>0.0</td>\n",
              "      <td>0.0</td>\n",
              "      <td>1.0</td>\n",
              "      <td>1.0</td>\n",
              "    </tr>\n",
              "  </tbody>\n",
              "</table>\n",
              "</div>\n",
              "      <button class=\"colab-df-convert\" onclick=\"convertToInteractive('df-0d20fd77-ab80-4385-b04d-480a4a5cba97')\"\n",
              "              title=\"Convert this dataframe to an interactive table.\"\n",
              "              style=\"display:none;\">\n",
              "        \n",
              "  <svg xmlns=\"http://www.w3.org/2000/svg\" height=\"24px\"viewBox=\"0 0 24 24\"\n",
              "       width=\"24px\">\n",
              "    <path d=\"M0 0h24v24H0V0z\" fill=\"none\"/>\n",
              "    <path d=\"M18.56 5.44l.94 2.06.94-2.06 2.06-.94-2.06-.94-.94-2.06-.94 2.06-2.06.94zm-11 1L8.5 8.5l.94-2.06 2.06-.94-2.06-.94L8.5 2.5l-.94 2.06-2.06.94zm10 10l.94 2.06.94-2.06 2.06-.94-2.06-.94-.94-2.06-.94 2.06-2.06.94z\"/><path d=\"M17.41 7.96l-1.37-1.37c-.4-.4-.92-.59-1.43-.59-.52 0-1.04.2-1.43.59L10.3 9.45l-7.72 7.72c-.78.78-.78 2.05 0 2.83L4 21.41c.39.39.9.59 1.41.59.51 0 1.02-.2 1.41-.59l7.78-7.78 2.81-2.81c.8-.78.8-2.07 0-2.86zM5.41 20L4 18.59l7.72-7.72 1.47 1.35L5.41 20z\"/>\n",
              "  </svg>\n",
              "      </button>\n",
              "      \n",
              "  <style>\n",
              "    .colab-df-container {\n",
              "      display:flex;\n",
              "      flex-wrap:wrap;\n",
              "      gap: 12px;\n",
              "    }\n",
              "\n",
              "    .colab-df-convert {\n",
              "      background-color: #E8F0FE;\n",
              "      border: none;\n",
              "      border-radius: 50%;\n",
              "      cursor: pointer;\n",
              "      display: none;\n",
              "      fill: #1967D2;\n",
              "      height: 32px;\n",
              "      padding: 0 0 0 0;\n",
              "      width: 32px;\n",
              "    }\n",
              "\n",
              "    .colab-df-convert:hover {\n",
              "      background-color: #E2EBFA;\n",
              "      box-shadow: 0px 1px 2px rgba(60, 64, 67, 0.3), 0px 1px 3px 1px rgba(60, 64, 67, 0.15);\n",
              "      fill: #174EA6;\n",
              "    }\n",
              "\n",
              "    [theme=dark] .colab-df-convert {\n",
              "      background-color: #3B4455;\n",
              "      fill: #D2E3FC;\n",
              "    }\n",
              "\n",
              "    [theme=dark] .colab-df-convert:hover {\n",
              "      background-color: #434B5C;\n",
              "      box-shadow: 0px 1px 3px 1px rgba(0, 0, 0, 0.15);\n",
              "      filter: drop-shadow(0px 1px 2px rgba(0, 0, 0, 0.3));\n",
              "      fill: #FFFFFF;\n",
              "    }\n",
              "  </style>\n",
              "\n",
              "      <script>\n",
              "        const buttonEl =\n",
              "          document.querySelector('#df-0d20fd77-ab80-4385-b04d-480a4a5cba97 button.colab-df-convert');\n",
              "        buttonEl.style.display =\n",
              "          google.colab.kernel.accessAllowed ? 'block' : 'none';\n",
              "\n",
              "        async function convertToInteractive(key) {\n",
              "          const element = document.querySelector('#df-0d20fd77-ab80-4385-b04d-480a4a5cba97');\n",
              "          const dataTable =\n",
              "            await google.colab.kernel.invokeFunction('convertToInteractive',\n",
              "                                                     [key], {});\n",
              "          if (!dataTable) return;\n",
              "\n",
              "          const docLinkHtml = 'Like what you see? Visit the ' +\n",
              "            '<a target=\"_blank\" href=https://colab.research.google.com/notebooks/data_table.ipynb>data table notebook</a>'\n",
              "            + ' to learn more about interactive tables.';\n",
              "          element.innerHTML = '';\n",
              "          dataTable['output_type'] = 'display_data';\n",
              "          await google.colab.output.renderOutput(dataTable, element);\n",
              "          const docLink = document.createElement('div');\n",
              "          docLink.innerHTML = docLinkHtml;\n",
              "          element.appendChild(docLink);\n",
              "        }\n",
              "      </script>\n",
              "    </div>\n",
              "  </div>\n",
              "  "
            ]
          },
          "metadata": {},
          "execution_count": 8
        }
      ]
    },
    {
      "cell_type": "code",
      "source": [
        "## Checking on the details of the target column\n",
        "\n",
        "divorce_data.Class"
      ],
      "metadata": {
        "colab": {
          "base_uri": "https://localhost:8080/"
        },
        "id": "NG2S-9LS4HRp",
        "outputId": "4a84c4d9-1e46-4f32-99ab-8335a08196b0"
      },
      "execution_count": null,
      "outputs": [
        {
          "output_type": "execute_result",
          "data": {
            "text/plain": [
              "0      1\n",
              "1      1\n",
              "2      1\n",
              "3      1\n",
              "4      1\n",
              "      ..\n",
              "165    0\n",
              "166    0\n",
              "167    0\n",
              "168    0\n",
              "169    0\n",
              "Name: Class, Length: 170, dtype: int64"
            ]
          },
          "metadata": {},
          "execution_count": 9
        }
      ]
    },
    {
      "cell_type": "code",
      "source": [
        "## Using seaborn Plot the graph to show distriubution of the target variable\n",
        "## as we cant go through each individal columns or row ploting a bar chart of the Class column will show us details feature of the  target column\n",
        "\n",
        " \n",
        "sns.histplot(divorce_data.Class)\n",
        "plt.title('Target Variable Distribution')\n",
        "plt.show()"
      ],
      "metadata": {
        "colab": {
          "base_uri": "https://localhost:8080/",
          "height": 295
        },
        "id": "SVaX__i64LFo",
        "outputId": "d991750a-6bc2-45fe-e873-d70933015152"
      },
      "execution_count": null,
      "outputs": [
        {
          "output_type": "display_data",
          "data": {
            "text/plain": [
              "<Figure size 432x288 with 1 Axes>"
            ],
            "image/png": "[encoded data removed]"
          },
          "metadata": {
            "needs_background": "light"
          }
        }
      ]
    },
    {
      "cell_type": "markdown",
      "source": [
        "From the graph we can see that the target variable is balanced 51% to 49%\n",
        "\n",
        "We can also explore some other important columns in the divorce dataset by running the code below:\n"
      ],
      "metadata": {
        "id": "crBf713O5yQB"
      }
    },
    {
      "cell_type": "code",
      "source": [
        "from sklearn.neighbors import KNeighborsClassifier\n",
        "from xlrd import xlsx\n",
        "import matplotlib.pyplot as plt\n",
        "from sklearn.model_selection import train_test_split"
      ],
      "metadata": {
        "id": "Yanvldbv7TLs"
      },
      "execution_count": null,
      "outputs": []
    },
    {
      "cell_type": "code",
      "source": [
        "from sklearn.neighbors import KNeighborsClassifier\n",
        "X = divorce_data.iloc[:, : 54]\n",
        "y = divorce_data.iloc[:,-1]\n",
        "knn = KNeighborsClassifier(n_neighbors=5)"
      ],
      "metadata": {
        "id": "zXNwF8rx8lrZ"
      },
      "execution_count": null,
      "outputs": []
    },
    {
      "cell_type": "code",
      "source": [
        "X = divorce_data.iloc[ :, 0:54]\n",
        "X.shape"
      ],
      "metadata": {
        "colab": {
          "base_uri": "https://localhost:8080/"
        },
        "id": "XbyOa1gL8xLo",
        "outputId": "b1af4600-f451-43e9-d307-b8baaba56be4"
      },
      "execution_count": null,
      "outputs": [
        {
          "output_type": "execute_result",
          "data": {
            "text/plain": [
              "(170, 54)"
            ]
          },
          "metadata": {},
          "execution_count": 13
        }
      ]
    },
    {
      "cell_type": "code",
      "source": [
        "X_train,X_test,y_train,y_test = train_test_split(X, y, test_size = 0.2)\n",
        "X,y = X_train ,y_train"
      ],
      "metadata": {
        "id": "C5mUDs5R9ZZo"
      },
      "execution_count": null,
      "outputs": []
    },
    {
      "cell_type": "code",
      "source": [
        "print(X_test.shape)\n",
        "print(y_train.shape)\n",
        "print(X_train.shape)\n",
        "print(y_test.shape)"
      ],
      "metadata": {
        "colab": {
          "base_uri": "https://localhost:8080/"
        },
        "id": "HKfwH9eC9hyg",
        "outputId": "4e7ad7b9-5f8d-4b44-ceff-892b9d25b5b5"
      },
      "execution_count": null,
      "outputs": [
        {
          "output_type": "stream",
          "name": "stdout",
          "text": [
            "(34, 54)\n",
            "(136,)\n",
            "(136, 54)\n",
            "(34,)\n"
          ]
        }
      ]
    },
    {
      "cell_type": "code",
      "source": [
        "## Using RandomForest feature selection to select important feature for the algorithm\n",
        "\n",
        "from sklearn.ensemble import RandomForestRegressor    \n",
        "rf = RandomForestRegressor(n_estimators=10, random_state=8)\n",
        "rf.fit(X_train,y_train)\n",
        "importances =rf.feature_importances_"
      ],
      "metadata": {
        "id": "6Nh68H8Q-dto"
      },
      "execution_count": null,
      "outputs": []
    },
    {
      "cell_type": "code",
      "source": [
        "## from the below graph we can see that the system chooses features which nare embedded and important to run the algorithm for this process.\n",
        "\n",
        "forest_importances = pd.Series(importances, index=X_train.columns)\n",
        "\n",
        "fig, ax = plt.subplots()\n",
        "forest_importances.plot.bar()"
      ],
      "metadata": {
        "colab": {
          "base_uri": "https://localhost:8080/",
          "height": 300
        },
        "id": "otUA5RY6-pw-",
        "outputId": "75bb635f-f872-44fc-93d5-144ef5fb3ecf"
      },
      "execution_count": null,
      "outputs": [
        {
          "output_type": "execute_result",
          "data": {
            "text/plain": [
              "<matplotlib.axes._subplots.AxesSubplot at 0x7f958386d1c0>"
            ]
          },
          "metadata": {},
          "execution_count": 17
        },
        {
          "output_type": "display_data",
          "data": {
            "text/plain": [
              "<Figure size 432x288 with 1 Axes>"
            ],
            "image/png": "[encoded data removed]"
          },
          "metadata": {
            "needs_background": "light"
          }
        }
      ]
    },
    {
      "cell_type": "code",
      "source": [
        "## since we running KNN algorithm we need to scale system.\n",
        "\n",
        "from sklearn.preprocessing import StandardScaler\n",
        "sc = StandardScaler()\n",
        "X_train_s = sc.fit_transform(X_train)\n",
        "X_test_s = sc.transform(X_test)"
      ],
      "metadata": {
        "id": "Knxxbwj_-6D1"
      },
      "execution_count": null,
      "outputs": []
    },
    {
      "cell_type": "code",
      "source": [
        "## Training the model with KNN Classifier     p = 2 is the power paramenter for the minkowski metric. when p =2 is the euclidean distance\n",
        "\n",
        "from sklearn.neighbors import KNeighborsClassifier\n",
        "classifier = KNeighborsClassifier(n_neighbors=5, metric = 'minkowski', p=2)\n",
        "classifier.fit(X_train, y_train)"
      ],
      "metadata": {
        "colab": {
          "base_uri": "https://localhost:8080/"
        },
        "id": "ar0RnZtu--bm",
        "outputId": "12c990a6-97f1-42df-aacd-d19144ca7565"
      },
      "execution_count": null,
      "outputs": [
        {
          "output_type": "execute_result",
          "data": {
            "text/plain": [
              "KNeighborsClassifier()"
            ]
          },
          "metadata": {},
          "execution_count": 19
        }
      ]
    },
    {
      "cell_type": "code",
      "source": [
        "## Evaluating the model: we can use the predict function to make prediction our our test result\n",
        "y_pred = classifier.predict(X_test)\n",
        "print(y_pred)"
      ],
      "metadata": {
        "colab": {
          "base_uri": "https://localhost:8080/"
        },
        "id": "g_KF4vT__Cel",
        "outputId": "735ac3c2-2b1f-4e8f-9f25-a685160b0705"
      },
      "execution_count": null,
      "outputs": [
        {
          "output_type": "stream",
          "name": "stdout",
          "text": [
            "[1 0 1 1 1 0 1 1 1 1 0 0 0 1 0 1 1 0 0 0 1 1 0 0 0 1 1 0 1 0 0 1 0 0]\n"
          ]
        }
      ]
    },
    {
      "cell_type": "code",
      "source": [
        "print(y_test)  ## couple with attribute 157 are likely not to be divorced whie 50 and 70 divorced"
      ],
      "metadata": {
        "colab": {
          "base_uri": "https://localhost:8080/"
        },
        "id": "f7PdL8EVAcas",
        "outputId": "50b1ad36-cef7-4776-a242-f34cb04e8ee9"
      },
      "execution_count": null,
      "outputs": [
        {
          "output_type": "stream",
          "name": "stdout",
          "text": [
            "13     1\n",
            "163    0\n",
            "25     1\n",
            "47     1\n",
            "10     1\n",
            "127    0\n",
            "49     1\n",
            "34     1\n",
            "12     1\n",
            "23     1\n",
            "116    0\n",
            "87     0\n",
            "150    0\n",
            "22     1\n",
            "99     0\n",
            "50     1\n",
            "64     1\n",
            "136    0\n",
            "166    0\n",
            "5      1\n",
            "18     1\n",
            "48     1\n",
            "134    0\n",
            "140    0\n",
            "117    0\n",
            "74     1\n",
            "76     1\n",
            "106    0\n",
            "71     1\n",
            "115    0\n",
            "131    0\n",
            "15     1\n",
            "89     0\n",
            "98     0\n",
            "Name: Class, dtype: int64\n"
          ]
        }
      ]
    },
    {
      "cell_type": "code",
      "source": [
        "## Checking for the accuracy of the model\n",
        "\n",
        "from sklearn import metrics\n",
        "acc = metrics.accuracy_score(y_test, y_pred)\n",
        "print('accuracy:%.2f\\n\\n'%(acc))\n",
        "cm = metrics.confusion_matrix(y_test, y_pred)\n",
        "print('Confusion Matrix:')\n",
        "print(cm,'n\\n')\n",
        "print('-------------------------------------------')\n",
        "result = metrics.classification_report(y_test,y_pred)\n",
        "print('Classification Report:\\n')\n",
        "print(result)"
      ],
      "metadata": {
        "colab": {
          "base_uri": "https://localhost:8080/"
        },
        "id": "g04Z08aT_UaO",
        "outputId": "9d80ff5d-41df-4de4-c04b-d2ccee9df4c0"
      },
      "execution_count": null,
      "outputs": [
        {
          "output_type": "stream",
          "name": "stdout",
          "text": [
            "accuracy:0.97\n",
            "\n",
            "\n",
            "Confusion Matrix:\n",
            "[[16  0]\n",
            " [ 1 17]] n\n",
            "\n",
            "-------------------------------------------\n",
            "Classification Report:\n",
            "\n",
            "              precision    recall  f1-score   support\n",
            "\n",
            "           0       0.94      1.00      0.97        16\n",
            "           1       1.00      0.94      0.97        18\n",
            "\n",
            "    accuracy                           0.97        34\n",
            "   macro avg       0.97      0.97      0.97        34\n",
            "weighted avg       0.97      0.97      0.97        34\n",
            "\n"
          ]
        }
      ]
    },
    {
      "cell_type": "code",
      "source": [
        "## using seaborn heatmap to visualize the confusion matrix\n",
        "\n"
      ],
      "metadata": {
        "id": "QExpwZgVCAx7"
      },
      "execution_count": null,
      "outputs": []
    },
    {
      "cell_type": "code",
      "source": [
        "import tensorflow as tf"
      ],
      "metadata": {
        "id": "jlr_8G7_CpCZ"
      },
      "execution_count": null,
      "outputs": []
    },
    {
      "cell_type": "markdown",
      "source": [
        "building and traning our neural network\n",
        "\n",
        "Keras model is the model used to build neural network. we have both sequential and functional. first line meaning we have initialise the keras model second line meaning we created the first hidden network and added a dense layer to it( A dense layer is a fully connected neural network.\n",
        "\n",
        "Line 2 says give me a dense model that have 8 neurons and input _shape 54 because we have 54 independent columns\n",
        "\n",
        "line 3 is the output which means give me a dense model with 3 neurons"
      ],
      "metadata": {
        "id": "ci-7p6wFCyvA"
      }
    },
    {
      "cell_type": "code",
      "source": [
        "model = tf.keras.models.Sequential()  # initialising the keras model\n",
        "model.add(tf.keras.layers.Dense(8,activation ='relu', input_shape = (54,))) \n",
        "model.add(tf.keras.layers.Dense(2,activation='softmax'))"
      ],
      "metadata": {
        "id": "WPMJMDCiC2DJ"
      },
      "execution_count": null,
      "outputs": []
    },
    {
      "cell_type": "code",
      "source": [
        "model.compile(optimizer='adam',\n",
        "              loss='sparse_categorical_crossentropy',\n",
        "              metrics = 'accuracy')"
      ],
      "metadata": {
        "id": "2X-Z1X0nDUuR"
      },
      "execution_count": null,
      "outputs": []
    },
    {
      "cell_type": "markdown",
      "source": [
        "the above code compiles the model which means we keep the model ready to compile the datawe have different optimizer, and sparse_categorical_crossentropy is one of the loss function we can use. we can also use binary_crossentropy\n",
        "\n",
        "the code below runs a summary of the neural network we have built:"
      ],
      "metadata": {
        "id": "80t7FOKNDj2J"
      }
    },
    {
      "cell_type": "code",
      "source": [
        "model.summary()"
      ],
      "metadata": {
        "colab": {
          "base_uri": "https://localhost:8080/"
        },
        "id": "e3B_r5CNDrZe",
        "outputId": "e7cc7a1e-a53f-43ee-b16c-612e83e98ed5"
      },
      "execution_count": null,
      "outputs": [
        {
          "output_type": "stream",
          "name": "stdout",
          "text": [
            "Model: \"sequential\"\n",
            "_________________________________________________________________\n",
            " Layer (type)                Output Shape              Param #   \n",
            "=================================================================\n",
            " dense (Dense)               (None, 8)                 440       \n",
            "                                                                 \n",
            " dense_1 (Dense)             (None, 2)                 18        \n",
            "                                                                 \n",
            "=================================================================\n",
            "Total params: 458\n",
            "Trainable params: 458\n",
            "Non-trainable params: 0\n",
            "_________________________________________________________________\n"
          ]
        }
      ]
    },
    {
      "cell_type": "code",
      "source": [
        "from sklearn.utils import class_weight\n",
        "class_weights = {0:1, 1:6,2:7}\n",
        "\n",
        "history = model.fit(X_train, y_train, \\\n",
        "                    batch_size = 8, epochs = 50,\\\n",
        "                    verbose = 2, class_weight = class_weights,\\\n",
        "                    validation_split = 0.2)"
      ],
      "metadata": {
        "colab": {
          "base_uri": "https://localhost:8080/"
        },
        "id": "_-RmnJsrEBQq",
        "outputId": "ad52bb4e-1399-4634-c473-6a117b00d9f7"
      },
      "execution_count": null,
      "outputs": [
        {
          "output_type": "stream",
          "name": "stdout",
          "text": [
            "Epoch 1/50\n",
            "14/14 - 1s - loss: 1.0794 - accuracy: 0.7593 - val_loss: 0.4661 - val_accuracy: 0.7857 - 818ms/epoch - 58ms/step\n",
            "Epoch 2/50\n",
            "14/14 - 0s - loss: 0.5477 - accuracy: 0.7500 - val_loss: 0.4496 - val_accuracy: 0.7857 - 71ms/epoch - 5ms/step\n",
            "Epoch 3/50\n",
            "14/14 - 0s - loss: 0.4816 - accuracy: 0.7685 - val_loss: 0.3728 - val_accuracy: 0.8571 - 59ms/epoch - 4ms/step\n",
            "Epoch 4/50\n",
            "14/14 - 0s - loss: 0.4230 - accuracy: 0.8426 - val_loss: 0.3000 - val_accuracy: 0.8929 - 51ms/epoch - 4ms/step\n",
            "Epoch 5/50\n",
            "14/14 - 0s - loss: 0.3760 - accuracy: 0.8796 - val_loss: 0.2538 - val_accuracy: 0.8929 - 44ms/epoch - 3ms/step\n",
            "Epoch 6/50\n",
            "14/14 - 0s - loss: 0.3402 - accuracy: 0.8889 - val_loss: 0.2263 - val_accuracy: 0.8929 - 48ms/epoch - 3ms/step\n",
            "Epoch 7/50\n",
            "14/14 - 0s - loss: 0.3095 - accuracy: 0.8889 - val_loss: 0.2176 - val_accuracy: 0.8929 - 44ms/epoch - 3ms/step\n",
            "Epoch 8/50\n",
            "14/14 - 0s - loss: 0.2823 - accuracy: 0.8981 - val_loss: 0.2024 - val_accuracy: 0.8929 - 47ms/epoch - 3ms/step\n",
            "Epoch 9/50\n",
            "14/14 - 0s - loss: 0.2607 - accuracy: 0.8981 - val_loss: 0.1937 - val_accuracy: 0.8929 - 47ms/epoch - 3ms/step\n",
            "Epoch 10/50\n",
            "14/14 - 0s - loss: 0.2422 - accuracy: 0.9074 - val_loss: 0.1792 - val_accuracy: 0.8929 - 54ms/epoch - 4ms/step\n",
            "Epoch 11/50\n",
            "14/14 - 0s - loss: 0.2258 - accuracy: 0.9074 - val_loss: 0.1779 - val_accuracy: 0.8929 - 46ms/epoch - 3ms/step\n",
            "Epoch 12/50\n",
            "14/14 - 0s - loss: 0.2105 - accuracy: 0.9352 - val_loss: 0.1726 - val_accuracy: 0.8929 - 50ms/epoch - 4ms/step\n",
            "Epoch 13/50\n",
            "14/14 - 0s - loss: 0.1975 - accuracy: 0.9352 - val_loss: 0.1714 - val_accuracy: 0.8929 - 60ms/epoch - 4ms/step\n",
            "Epoch 14/50\n",
            "14/14 - 0s - loss: 0.1894 - accuracy: 0.9352 - val_loss: 0.1595 - val_accuracy: 0.8929 - 46ms/epoch - 3ms/step\n",
            "Epoch 15/50\n",
            "14/14 - 0s - loss: 0.1759 - accuracy: 0.9537 - val_loss: 0.1617 - val_accuracy: 0.8929 - 53ms/epoch - 4ms/step\n",
            "Epoch 16/50\n",
            "14/14 - 0s - loss: 0.1654 - accuracy: 0.9537 - val_loss: 0.1605 - val_accuracy: 0.8929 - 50ms/epoch - 4ms/step\n",
            "Epoch 17/50\n",
            "14/14 - 0s - loss: 0.1562 - accuracy: 0.9630 - val_loss: 0.1583 - val_accuracy: 0.8929 - 62ms/epoch - 4ms/step\n",
            "Epoch 18/50\n",
            "14/14 - 0s - loss: 0.1481 - accuracy: 0.9630 - val_loss: 0.1620 - val_accuracy: 0.8929 - 49ms/epoch - 3ms/step\n",
            "Epoch 19/50\n",
            "14/14 - 0s - loss: 0.1407 - accuracy: 0.9630 - val_loss: 0.1613 - val_accuracy: 0.8929 - 48ms/epoch - 3ms/step\n",
            "Epoch 20/50\n",
            "14/14 - 0s - loss: 0.1355 - accuracy: 0.9815 - val_loss: 0.1525 - val_accuracy: 0.8929 - 47ms/epoch - 3ms/step\n",
            "Epoch 21/50\n",
            "14/14 - 0s - loss: 0.1295 - accuracy: 0.9722 - val_loss: 0.1632 - val_accuracy: 0.8929 - 58ms/epoch - 4ms/step\n",
            "Epoch 22/50\n",
            "14/14 - 0s - loss: 0.1215 - accuracy: 0.9722 - val_loss: 0.1616 - val_accuracy: 0.8929 - 52ms/epoch - 4ms/step\n",
            "Epoch 23/50\n",
            "14/14 - 0s - loss: 0.1156 - accuracy: 0.9815 - val_loss: 0.1553 - val_accuracy: 0.8929 - 47ms/epoch - 3ms/step\n",
            "Epoch 24/50\n",
            "14/14 - 0s - loss: 0.1108 - accuracy: 0.9815 - val_loss: 0.1478 - val_accuracy: 0.8929 - 45ms/epoch - 3ms/step\n",
            "Epoch 25/50\n",
            "14/14 - 0s - loss: 0.1049 - accuracy: 0.9815 - val_loss: 0.1531 - val_accuracy: 0.8929 - 50ms/epoch - 4ms/step\n",
            "Epoch 26/50\n",
            "14/14 - 0s - loss: 0.1013 - accuracy: 0.9815 - val_loss: 0.1521 - val_accuracy: 0.8929 - 48ms/epoch - 3ms/step\n",
            "Epoch 27/50\n",
            "14/14 - 0s - loss: 0.0975 - accuracy: 0.9815 - val_loss: 0.1566 - val_accuracy: 0.8929 - 52ms/epoch - 4ms/step\n",
            "Epoch 28/50\n",
            "14/14 - 0s - loss: 0.0925 - accuracy: 0.9815 - val_loss: 0.1461 - val_accuracy: 0.8929 - 65ms/epoch - 5ms/step\n",
            "Epoch 29/50\n",
            "14/14 - 0s - loss: 0.0890 - accuracy: 0.9907 - val_loss: 0.1435 - val_accuracy: 0.8929 - 48ms/epoch - 3ms/step\n",
            "Epoch 30/50\n",
            "14/14 - 0s - loss: 0.0835 - accuracy: 0.9907 - val_loss: 0.1541 - val_accuracy: 0.8929 - 63ms/epoch - 5ms/step\n",
            "Epoch 31/50\n",
            "14/14 - 0s - loss: 0.0817 - accuracy: 0.9815 - val_loss: 0.1534 - val_accuracy: 0.8929 - 51ms/epoch - 4ms/step\n",
            "Epoch 32/50\n",
            "14/14 - 0s - loss: 0.0780 - accuracy: 0.9907 - val_loss: 0.1517 - val_accuracy: 0.8929 - 50ms/epoch - 4ms/step\n",
            "Epoch 33/50\n",
            "14/14 - 0s - loss: 0.0752 - accuracy: 0.9907 - val_loss: 0.1486 - val_accuracy: 0.8929 - 51ms/epoch - 4ms/step\n",
            "Epoch 34/50\n",
            "14/14 - 0s - loss: 0.0723 - accuracy: 0.9907 - val_loss: 0.1455 - val_accuracy: 0.8929 - 59ms/epoch - 4ms/step\n",
            "Epoch 35/50\n",
            "14/14 - 0s - loss: 0.0704 - accuracy: 0.9907 - val_loss: 0.1439 - val_accuracy: 0.9286 - 65ms/epoch - 5ms/step\n",
            "Epoch 36/50\n",
            "14/14 - 0s - loss: 0.0678 - accuracy: 0.9907 - val_loss: 0.1409 - val_accuracy: 0.9286 - 51ms/epoch - 4ms/step\n",
            "Epoch 37/50\n",
            "14/14 - 0s - loss: 0.0647 - accuracy: 0.9907 - val_loss: 0.1446 - val_accuracy: 0.9286 - 47ms/epoch - 3ms/step\n",
            "Epoch 38/50\n",
            "14/14 - 0s - loss: 0.0622 - accuracy: 0.9907 - val_loss: 0.1427 - val_accuracy: 0.9286 - 54ms/epoch - 4ms/step\n",
            "Epoch 39/50\n",
            "14/14 - 0s - loss: 0.0594 - accuracy: 0.9907 - val_loss: 0.1391 - val_accuracy: 0.9286 - 67ms/epoch - 5ms/step\n",
            "Epoch 40/50\n",
            "14/14 - 0s - loss: 0.0577 - accuracy: 0.9907 - val_loss: 0.1348 - val_accuracy: 0.9286 - 54ms/epoch - 4ms/step\n",
            "Epoch 41/50\n",
            "14/14 - 0s - loss: 0.0551 - accuracy: 0.9907 - val_loss: 0.1388 - val_accuracy: 0.9286 - 68ms/epoch - 5ms/step\n",
            "Epoch 42/50\n",
            "14/14 - 0s - loss: 0.0527 - accuracy: 0.9907 - val_loss: 0.1414 - val_accuracy: 0.9286 - 60ms/epoch - 4ms/step\n",
            "Epoch 43/50\n",
            "14/14 - 0s - loss: 0.0510 - accuracy: 0.9907 - val_loss: 0.1354 - val_accuracy: 0.9286 - 56ms/epoch - 4ms/step\n",
            "Epoch 44/50\n",
            "14/14 - 0s - loss: 0.0490 - accuracy: 0.9907 - val_loss: 0.1373 - val_accuracy: 0.9286 - 56ms/epoch - 4ms/step\n",
            "Epoch 45/50\n",
            "14/14 - 0s - loss: 0.0470 - accuracy: 0.9907 - val_loss: 0.1351 - val_accuracy: 0.9286 - 78ms/epoch - 6ms/step\n",
            "Epoch 46/50\n",
            "14/14 - 0s - loss: 0.0442 - accuracy: 0.9907 - val_loss: 0.1427 - val_accuracy: 0.9286 - 75ms/epoch - 5ms/step\n",
            "Epoch 47/50\n",
            "14/14 - 0s - loss: 0.0428 - accuracy: 0.9907 - val_loss: 0.1437 - val_accuracy: 0.9286 - 76ms/epoch - 5ms/step\n",
            "Epoch 48/50\n",
            "14/14 - 0s - loss: 0.0413 - accuracy: 0.9907 - val_loss: 0.1375 - val_accuracy: 0.9286 - 67ms/epoch - 5ms/step\n",
            "Epoch 49/50\n",
            "14/14 - 0s - loss: 0.0392 - accuracy: 0.9907 - val_loss: 0.1351 - val_accuracy: 0.9286 - 77ms/epoch - 6ms/step\n",
            "Epoch 50/50\n",
            "14/14 - 0s - loss: 0.0378 - accuracy: 0.9907 - val_loss: 0.1285 - val_accuracy: 0.9286 - 52ms/epoch - 4ms/step\n"
          ]
        }
      ]
    },
    {
      "cell_type": "code",
      "source": [
        "## Evaluating the Neural Network Model we have created:\n",
        "\n",
        "accuracy = history.history['accuracy']\n",
        "validation_accuracy = history.history['val_accuracy']\n",
        "plt.plot(accuracy, label='Training Set Accuracy')\n",
        "plt.plot(validation_accuracy, label='Validation Set Accuracy')\n",
        "plt.ylabel('Accuracy')\n",
        "plt.ylim([min(plt.ylim()),1])\n",
        "plt.title('Training and Validation Accuracy Across Epochs')\n",
        "plt.legend()"
      ],
      "metadata": {
        "colab": {
          "base_uri": "https://localhost:8080/",
          "height": 298
        },
        "id": "_DM3HLngEVsi",
        "outputId": "069f9bbf-d135-4801-c16c-685efefa2e06"
      },
      "execution_count": null,
      "outputs": [
        {
          "output_type": "execute_result",
          "data": {
            "text/plain": [
              "<matplotlib.legend.Legend at 0x7f952499d790>"
            ]
          },
          "metadata": {},
          "execution_count": 29
        },
        {
          "output_type": "display_data",
          "data": {
            "text/plain": [
              "<Figure size 432x288 with 1 Axes>"
            ],
            "image/png": "[encoded data removed]"
          },
          "metadata": {
            "needs_background": "light"
          }
        }
      ]
    },
    {
      "cell_type": "code",
      "source": [
        "loss = history.history['loss']\n",
        "validation_loss = history.history['val_loss']\n",
        "plt.plot(loss, label='Training Set Loss')\n",
        "plt.plot(validation_loss, label='Validation Set Loss')\n",
        "plt.ylabel('Loss')\n",
        "plt.title('Training and Validation Accuracy Across Epochs')\n",
        "plt.legend()"
      ],
      "metadata": {
        "colab": {
          "base_uri": "https://localhost:8080/",
          "height": 298
        },
        "id": "8rjKmpawExKW",
        "outputId": "4e9fe629-3b22-4a8d-9c60-19bcf2b07428"
      },
      "execution_count": null,
      "outputs": [
        {
          "output_type": "execute_result",
          "data": {
            "text/plain": [
              "<matplotlib.legend.Legend at 0x7f952909ee50>"
            ]
          },
          "metadata": {},
          "execution_count": 30
        },
        {
          "output_type": "display_data",
          "data": {
            "text/plain": [
              "<Figure size 432x288 with 1 Axes>"
            ],
            "image/png": "[encoded data removed]"
          },
          "metadata": {
            "needs_background": "light"
          }
        }
      ]
    },
    {
      "cell_type": "code",
      "source": [
        "y_pred = model.predict(X_test)\n",
        "y_pred = y_pred.argmax(axis=1)"
      ],
      "metadata": {
        "colab": {
          "base_uri": "https://localhost:8080/"
        },
        "id": "VhE_M_r5E_oM",
        "outputId": "396e3e46-bdd8-4a54-f462-944b3ff9daab"
      },
      "execution_count": null,
      "outputs": [
        {
          "output_type": "stream",
          "name": "stdout",
          "text": [
            "2/2 [==============================] - 0s 5ms/step\n"
          ]
        }
      ]
    },
    {
      "cell_type": "code",
      "source": [
        "from sklearn.metrics import confusion_matrix, classification_report"
      ],
      "metadata": {
        "id": "QoRiiw0-Fa1a"
      },
      "execution_count": null,
      "outputs": []
    },
    {
      "cell_type": "code",
      "source": [
        "confusion_matrix = confusion_matrix(y_test,y_pred)\n",
        "\n",
        "ax = sns.heatmap(confusion_matrix, cmap='flare',annot=True, fmt='d')\n",
        "plt.xlabel(\"Predicted Class\",fontsize=12)\n",
        "plt.ylabel(\"True Class\",fontsize=12)\n",
        "plt.title(\"Confusion Matrix\",fontsize=12)\n",
        "plt.show()"
      ],
      "metadata": {
        "colab": {
          "base_uri": "https://localhost:8080/",
          "height": 298
        },
        "id": "ieVqvke9FeUr",
        "outputId": "769d65cf-2396-41b1-d7cc-c9e477866d4d"
      },
      "execution_count": null,
      "outputs": [
        {
          "output_type": "display_data",
          "data": {
            "text/plain": [
              "<Figure size 432x288 with 2 Axes>"
            ],
            "image/png": "[encoded data removed]"
          },
          "metadata": {
            "needs_background": "light"
          }
        }
      ]
    }
  ]
}